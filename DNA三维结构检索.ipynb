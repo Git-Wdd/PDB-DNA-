{
 "cells": [
  {
   "cell_type": "code",
   "execution_count": null,
   "id": "1b05dfcc",
   "metadata": {},
   "outputs": [
    {
     "data": {
      "application/vnd.jupyter.widget-view+json": {
       "model_id": "e546e7679a44457e9b672d7dab54430f",
       "version_major": 2,
       "version_minor": 0
      },
      "text/plain": []
     },
     "metadata": {},
     "output_type": "display_data"
    },
    {
     "name": "stdout",
     "output_type": "stream",
     "text": [
      "Structure exists: '.\\pdb101d.ent' \n"
     ]
    },
    {
     "data": {
      "application/vnd.jupyter.widget-view+json": {
       "model_id": "27a62e8c53214e9caa56a6fd9940c6f9",
       "version_major": 2,
       "version_minor": 0
      },
      "text/plain": [
       "NGLWidget()"
      ]
     },
     "metadata": {},
     "output_type": "display_data"
    },
    {
     "ename": "KeyboardInterrupt",
     "evalue": "",
     "output_type": "error",
     "traceback": [
      "\u001b[31m---------------------------------------------------------------------------\u001b[39m",
      "\u001b[31mKeyboardInterrupt\u001b[39m                         Traceback (most recent call last)",
      "\u001b[36mCell\u001b[39m\u001b[36m \u001b[39m\u001b[32mIn[1]\u001b[39m\u001b[32m, line 65\u001b[39m\n\u001b[32m     62\u001b[39m button.pack(pady=\u001b[32m20\u001b[39m)\n\u001b[32m     64\u001b[39m \u001b[38;5;66;03m# 运行主循环\u001b[39;00m\n\u001b[32m---> \u001b[39m\u001b[32m65\u001b[39m \u001b[43mroot\u001b[49m\u001b[43m.\u001b[49m\u001b[43mmainloop\u001b[49m\u001b[43m(\u001b[49m\u001b[43m)\u001b[49m\n",
      "\u001b[36mFile \u001b[39m\u001b[32mc:\\Users\\。。。。。\\AppData\\Local\\Programs\\Python\\Python312\\Lib\\tkinter\\__init__.py:1505\u001b[39m, in \u001b[36mMisc.mainloop\u001b[39m\u001b[34m(self, n)\u001b[39m\n\u001b[32m   1503\u001b[39m \u001b[38;5;28;01mdef\u001b[39;00m\u001b[38;5;250m \u001b[39m\u001b[34mmainloop\u001b[39m(\u001b[38;5;28mself\u001b[39m, n=\u001b[32m0\u001b[39m):\n\u001b[32m   1504\u001b[39m \u001b[38;5;250m    \u001b[39m\u001b[33;03m\"\"\"Call the mainloop of Tk.\"\"\"\u001b[39;00m\n\u001b[32m-> \u001b[39m\u001b[32m1505\u001b[39m     \u001b[38;5;28;43mself\u001b[39;49m\u001b[43m.\u001b[49m\u001b[43mtk\u001b[49m\u001b[43m.\u001b[49m\u001b[43mmainloop\u001b[49m\u001b[43m(\u001b[49m\u001b[43mn\u001b[49m\u001b[43m)\u001b[49m\n",
      "\u001b[31mKeyboardInterrupt\u001b[39m: "
     ]
    },
    {
     "ename": "",
     "evalue": "",
     "output_type": "error",
     "traceback": [
      "\u001b[1;31m在当前单元格或上一个单元格中执行代码时 Kernel 崩溃。\n",
      "\u001b[1;31m请查看单元格中的代码，以确定故障的可能原因。\n",
      "\u001b[1;31m单击<a href='https://aka.ms/vscodeJupyterKernelCrash'>此处</a>了解详细信息。\n",
      "\u001b[1;31m有关更多详细信息，请查看 Jupyter <a href='command:jupyter.viewOutput'>log</a>。"
     ]
    }
   ],
   "source": [
    "import subprocess\n",
    "import sys\n",
    "import tkinter as tk\n",
    "from tkinter import messagebox\n",
    "from Bio.PDB import PDBList\n",
    "import threading\n",
    "\n",
    "\n",
    "try:\n",
    "    import nglview as nv\n",
    "    from IPython.display import display\n",
    "except ImportError:\n",
    "    print(\"未安装 'nglview' 库，正在尝试安装...\")\n",
    "    try:\n",
    "        subprocess.check_call([sys.executable, \"-m\", \"pip\", \"install\", \"nglview\"])\n",
    "        import nglview as nv\n",
    "        from IPython.display import display\n",
    "        print(\"'nglview' 库安装成功。\")\n",
    "    except subprocess.CalledProcessError:\n",
    "        print(\"安装 'nglview' 库时出错，请手动使用 'pip install nglview' 或 'conda install -c conda-forge nglview' 进行安装。\")\n",
    "\n",
    "\n",
    "def search():\n",
    "    try:\n",
    "        # 获取用户输入的 Entry ID\n",
    "        entry_id = entry.get().strip()\n",
    "\n",
    "        # 创建 PDBList 对象以从 PDB 数据库下载文件\n",
    "        pdbl = PDBList()\n",
    "        pdb_file = pdbl.retrieve_pdb_file(entry_id, pdir='.', file_format='pdb')\n",
    "\n",
    "        # 创建 nglview 查看器\n",
    "        view = nv.show_structure_file(pdb_file)\n",
    "\n",
    "        # 在新线程中显示结构\n",
    "        def show_view():\n",
    "            display(view)\n",
    "\n",
    "        thread = threading.Thread(target=show_view)\n",
    "        thread.start()\n",
    "\n",
    "    except ValueError:\n",
    "        messagebox.showerror(\"输入错误\", \"请输入有效的 Entry ID。\")\n",
    "    except FileNotFoundError:\n",
    "        messagebox.showerror(\"文件错误\", \"未找到指定的 PDB 文件，请检查网络连接或 Entry ID 是否正确。\")\n",
    "    except Exception as e:\n",
    "        messagebox.showerror(\"未知错误\", f\"发生未知错误：{e}\")\n",
    "\n",
    "\n",
    "# 创建主窗口\n",
    "root = tk.Tk()\n",
    "root.title(\"PDB DNA 三维结构查询\")\n",
    "\n",
    "# 创建输入框和标签\n",
    "label = tk.Label(root, text=\"请输入 DNA 的 Entry ID:\")\n",
    "label.pack(pady=10)\n",
    "entry = tk.Entry(root)\n",
    "entry.pack(pady=5)\n",
    "\n",
    "# 创建搜索按钮\n",
    "button = tk.Button(root, text=\"搜索\", command=search)\n",
    "button.pack(pady=20)\n",
    "\n",
    "# 运行主循环\n",
    "root.mainloop()\n",
    "    "
   ]
  }
 ],
 "metadata": {
  "kernelspec": {
   "display_name": "Python 3",
   "language": "python",
   "name": "python3"
  },
  "language_info": {
   "codemirror_mode": {
    "name": "ipython",
    "version": 3
   },
   "file_extension": ".py",
   "mimetype": "text/x-python",
   "name": "python",
   "nbconvert_exporter": "python",
   "pygments_lexer": "ipython3",
   "version": "3.12.6"
  }
 },
 "nbformat": 4,
 "nbformat_minor": 5
}
